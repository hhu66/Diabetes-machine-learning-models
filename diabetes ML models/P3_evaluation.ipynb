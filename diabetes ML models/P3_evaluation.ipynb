{
  "nbformat": 4,
  "nbformat_minor": 0,
  "metadata": {
    "colab": {
      "provenance": [],
      "collapsed_sections": [
        "Ggxi9Sg5TQTT",
        "bUeMObe9YSr-",
        "taOZQi8V5jgF",
        "IQWyipGuABml",
        "ypzxlojPN2Hw",
        "o4wg72Q-UKQw",
        "liN9KmHaWWYC",
        "2HERvcHWYO9c",
        "7iKQqcVmB3EH",
        "KyPhY_KE9ZNc"
      ]
    },
    "kernelspec": {
      "name": "python3",
      "display_name": "Python 3"
    },
    "language_info": {
      "name": "python"
    }
  },
  "cells": [
    {
      "cell_type": "markdown",
      "source": [
        "# **Import necessary packages**"
      ],
      "metadata": {
        "id": "Ggxi9Sg5TQTT"
      }
    },
    {
      "cell_type": "code",
      "source": [
        "# packages for data\n",
        "import numpy as np\n",
        "import pandas as pd\n",
        "\n",
        "#machine learning packages for tree-based models\n",
        "import sklearn\n",
        "from sklearn import tree\n",
        "from sklearn.ensemble import RandomForestClassifier\n",
        "from sklearn.model_selection import train_test_split\n",
        "\n",
        "#machine learning packages for logistic regression\n",
        "from sklearn.linear_model import LogisticRegression\n",
        "\n",
        "#packages for visualization\n",
        "import matplotlib.pyplot as plt\n",
        "%matplotlib inline\n",
        "\n",
        "#packages for evaluation\n",
        "from sklearn.metrics import confusion_matrix\n",
        "\n",
        "#classification report\n",
        "from sklearn.metrics import classification_report\n",
        "\n",
        "#ROC curve\n",
        "from sklearn.metrics import roc_curve, roc_auc_score\n",
        "\n",
        "#Grid search CV\n",
        "from sklearn.model_selection import GridSearchCV\n",
        "\n",
        "#K-fold cross-validation\n",
        "from sklearn.model_selection import KFold, cross_val_score"
      ],
      "metadata": {
        "id": "xC8pEcUvTZMy"
      },
      "execution_count": 1,
      "outputs": []
    },
    {
      "cell_type": "markdown",
      "source": [
        "# **Import Data**"
      ],
      "metadata": {
        "id": "bUeMObe9YSr-"
      }
    },
    {
      "cell_type": "code",
      "source": [
        "#Import data from drive\n",
        "file_path = '/content/drive/My Drive/Diabetes.csv'\n",
        "Diabetes = pd.read_csv(file_path)"
      ],
      "metadata": {
        "id": "WxEpHO6HYR8z"
      },
      "execution_count": 2,
      "outputs": []
    },
    {
      "cell_type": "code",
      "source": [
        "#Check dataset info and shape\n",
        "Diabetes.info(), Diabetes.shape"
      ],
      "metadata": {
        "colab": {
          "base_uri": "https://localhost:8080/"
        },
        "id": "PFAZC9fh5UeO",
        "outputId": "000d03d5-96f0-4e98-cbc1-61fd26f7a7aa"
      },
      "execution_count": 3,
      "outputs": [
        {
          "output_type": "stream",
          "name": "stdout",
          "text": [
            "<class 'pandas.core.frame.DataFrame'>\n",
            "RangeIndex: 4949 entries, 0 to 4948\n",
            "Data columns (total 22 columns):\n",
            " #   Column                Non-Null Count  Dtype  \n",
            "---  ------                --------------  -----  \n",
            " 0   HighBP                4949 non-null   int64  \n",
            " 1   HighChol              4949 non-null   int64  \n",
            " 2   CholCheck             4949 non-null   int64  \n",
            " 3   Smoker                4949 non-null   int64  \n",
            " 4   Stroke                4949 non-null   int64  \n",
            " 5   HeartDiseaseorAttack  4949 non-null   int64  \n",
            " 6   PhysActivity          4949 non-null   int64  \n",
            " 7   Fruits                4949 non-null   int64  \n",
            " 8   Veggies               4949 non-null   int64  \n",
            " 9   HvyAlcoholConsump     4949 non-null   int64  \n",
            " 10  AnyHealthcare         4949 non-null   int64  \n",
            " 11  NoDocbcCost           4949 non-null   int64  \n",
            " 12  GenHlth               4949 non-null   int64  \n",
            " 13  DiffWalk              4949 non-null   int64  \n",
            " 14  Sex                   4949 non-null   int64  \n",
            " 15  Age                   4949 non-null   int64  \n",
            " 16  Education             4949 non-null   int64  \n",
            " 17  Income                4949 non-null   int64  \n",
            " 18  Diabetes_binary       4949 non-null   int64  \n",
            " 19  MenHlth_bins          4949 non-null   int64  \n",
            " 20  PhysHlth_bins         4949 non-null   int64  \n",
            " 21  BMI_normalized        4949 non-null   float64\n",
            "dtypes: float64(1), int64(21)\n",
            "memory usage: 850.7 KB\n"
          ]
        },
        {
          "output_type": "execute_result",
          "data": {
            "text/plain": [
              "(None, (4949, 22))"
            ]
          },
          "metadata": {},
          "execution_count": 3
        }
      ]
    },
    {
      "cell_type": "markdown",
      "source": [
        "# **Splitting Training and Testing Data**"
      ],
      "metadata": {
        "id": "taOZQi8V5jgF"
      }
    },
    {
      "cell_type": "code",
      "source": [
        "#Column names of dataset\n",
        "columns = Diabetes.columns"
      ],
      "metadata": {
        "id": "V8oa5WYQ6Ab0"
      },
      "execution_count": 4,
      "outputs": []
    },
    {
      "cell_type": "code",
      "source": [
        "#Target outcome\n",
        "target = 'Diabetes_binary'\n",
        "\n",
        "#Numerical Feature\n",
        "num = ['BMI_normalized']\n",
        "\n",
        "#Categorical Features\n",
        "cats = columns[~columns.isin(num) & ~columns.isin([target])]"
      ],
      "metadata": {
        "id": "MoAnotIJ5eil"
      },
      "execution_count": 5,
      "outputs": []
    },
    {
      "cell_type": "code",
      "source": [
        "#Create new data frame named \"Dia_X\" by concatenaitng numerical featrues and categorical features\n",
        "dia_X = pd.concat([Diabetes[num], Diabetes[cats]], axis = 1)\n",
        "\n",
        "#Target variable column\n",
        "dia_y = Diabetes[target]\n",
        "\n",
        "# Create split with Sklearn, 70% of data for training, 30% for testing, random_state = 66\n",
        "X_train, X_test, y_train, y_test  = train_test_split(dia_X, dia_y, test_size = 0.3,random_state = 66)\n",
        "\n",
        "#Check the shape of train set and test set\n",
        "X_train.shape, y_train.shape, X_test.shape, y_test.shape"
      ],
      "metadata": {
        "colab": {
          "base_uri": "https://localhost:8080/"
        },
        "id": "Mhp0-PSb5WOh",
        "outputId": "26a5e13b-677c-40c5-cd66-2523cb80a6e7"
      },
      "execution_count": 6,
      "outputs": [
        {
          "output_type": "execute_result",
          "data": {
            "text/plain": [
              "((3464, 21), (3464,), (1485, 21), (1485,))"
            ]
          },
          "metadata": {},
          "execution_count": 6
        }
      ]
    },
    {
      "cell_type": "markdown",
      "source": [
        "# **Re-calculate Model's Performance using Different Evaluation Metrics**\n",
        "* The models that had the highest performance in P2.1_DT and P2.2_linear will be used in this section."
      ],
      "metadata": {
        "id": "ud80pcSB771j"
      }
    },
    {
      "cell_type": "markdown",
      "source": [
        "## **Decision Tree Classifier**"
      ],
      "metadata": {
        "id": "IQWyipGuABml"
      }
    },
    {
      "cell_type": "code",
      "source": [
        "#Create a DecisionTreeClassifier with random_state=66, criterion = gini, max_depth = 5, max_feature = log2, min_samples_leaf = 2, min_samples_split = 2, splitter = best\n",
        "dtc = tree.DecisionTreeClassifier(random_state=66, criterion ='gini', max_depth = 5, max_features ='log2', min_samples_leaf= 2, min_samples_split= 2, splitter= 'best')\n",
        "\n",
        "#Fit the DecisionTreeClassifier with training data\n",
        "dtc.fit(X_train,y_train)\n",
        "\n",
        "#Accuracy of the model, round to 3 decimals\n",
        "np.round(dtc.score(X_test, y_test),3)"
      ],
      "metadata": {
        "colab": {
          "base_uri": "https://localhost:8080/"
        },
        "id": "y-Ji80TU9MVU",
        "outputId": "cef08b95-9d04-4228-dc7f-1fe11518a92b"
      },
      "execution_count": 7,
      "outputs": [
        {
          "output_type": "execute_result",
          "data": {
            "text/plain": [
              "0.861"
            ]
          },
          "metadata": {},
          "execution_count": 7
        }
      ]
    },
    {
      "cell_type": "markdown",
      "source": [
        "**Confusion Matrix**"
      ],
      "metadata": {
        "id": "7wFfaqcvAjtl"
      }
    },
    {
      "cell_type": "code",
      "source": [
        "#Number of actual positive in negative in testing data/unseen data\n",
        "print(f\"Number of actual negative: {sum(y_test == 0)}\")\n",
        "print(f\"Number of actual positive: {sum(y_test == 1)}\")"
      ],
      "metadata": {
        "colab": {
          "base_uri": "https://localhost:8080/"
        },
        "id": "sSfIzR8CCtjl",
        "outputId": "4448b8d5-c11c-493f-fb14-15525b7d93c8"
      },
      "execution_count": 8,
      "outputs": [
        {
          "output_type": "stream",
          "name": "stdout",
          "text": [
            "Number of actual negative: 1274\n",
            "Number of actual positive: 211\n"
          ]
        }
      ]
    },
    {
      "cell_type": "code",
      "source": [
        "#Predict the outcome by using trained model on testing/unseen data\n",
        "y_pred_dtc = dtc.predict(X_test)\n",
        "\n",
        "# Obtain true negative, false positive, false negative, and true positive of the model\n",
        "tn, fp, fn, tp = confusion_matrix(y_test, y_pred_dtc ,labels=[0,1]).ravel()\n",
        "tn, fp, fn, tp"
      ],
      "metadata": {
        "colab": {
          "base_uri": "https://localhost:8080/"
        },
        "id": "sJWuZWR4Aig1",
        "outputId": "10c5362f-f9b8-4e3e-f2cb-f102db4cc3b4"
      },
      "execution_count": 9,
      "outputs": [
        {
          "output_type": "execute_result",
          "data": {
            "text/plain": [
              "(1239, 35, 172, 39)"
            ]
          },
          "metadata": {},
          "execution_count": 9
        }
      ]
    },
    {
      "cell_type": "markdown",
      "source": [
        "**Classification Report**"
      ],
      "metadata": {
        "id": "EXc6rUw_Iy1V"
      }
    },
    {
      "cell_type": "code",
      "source": [
        "#Obtain the precision, recall, and f1-score of the trained model\n",
        "print(classification_report(y_test, y_pred_dtc))"
      ],
      "metadata": {
        "colab": {
          "base_uri": "https://localhost:8080/"
        },
        "id": "JLNEkNZ1IwmQ",
        "outputId": "5aaeb3ec-e78b-437a-b25a-31acffc3adfc"
      },
      "execution_count": 10,
      "outputs": [
        {
          "output_type": "stream",
          "name": "stdout",
          "text": [
            "              precision    recall  f1-score   support\n",
            "\n",
            "           0       0.88      0.97      0.92      1274\n",
            "           1       0.53      0.18      0.27       211\n",
            "\n",
            "    accuracy                           0.86      1485\n",
            "   macro avg       0.70      0.58      0.60      1485\n",
            "weighted avg       0.83      0.86      0.83      1485\n",
            "\n"
          ]
        }
      ]
    },
    {
      "cell_type": "markdown",
      "source": [
        "**Precision (for the positive class)**: True positive/Predicted positive: Out of the positive cases predicted by the model, how many of them are true positive?\n",
        "\n",
        "**Recall (for the positive class)**: True positive/Actual positive: Out of all the actual positive cases, how many of them are correctly identified by the model?\n",
        "\n",
        "**F1 (for the positive class)**: (2* precision * recall) / (precision + recall)"
      ],
      "metadata": {
        "id": "Sd6gsjuqJYMf"
      }
    },
    {
      "cell_type": "markdown",
      "source": [
        "**Positive class**\n",
        "* Precision : 0.53\n",
        "* Recall: 0.18\n",
        "* F1 score: 0.27\n",
        "\n",
        "**Negative class**\n",
        "* Precision: 0.88\n",
        "* Recall: 0.97\n",
        "* F1 score: 0.92\n",
        "\n",
        "**Discussion:**\n",
        "* Even though the decision tree classifier has a accuracy of 0.86, the precision, recall, and f1 score are low for positive class. The model appears to perform significantly better when identifying negative class than the positive class, which may due to class imbalance in the training data."
      ],
      "metadata": {
        "id": "NfYoH_Eol1qF"
      }
    },
    {
      "cell_type": "markdown",
      "source": [
        "**ROC curve**"
      ],
      "metadata": {
        "id": "FiT5x2fyLPgv"
      }
    },
    {
      "cell_type": "code",
      "source": [
        "# Get probability estimates of the positive class (second column)\n",
        "y_score_dtc = dtc.predict_proba(X_test)[:, 1]\n",
        "y_score_dtc"
      ],
      "metadata": {
        "colab": {
          "base_uri": "https://localhost:8080/"
        },
        "id": "08hSL0UHDu-F",
        "outputId": "cc0b2b24-924d-4d0b-86c1-ab6c29b5ae7e"
      },
      "execution_count": 11,
      "outputs": [
        {
          "output_type": "execute_result",
          "data": {
            "text/plain": [
              "array([0.01006711, 0.02463054, 0.02463054, ..., 0.12727273, 0.01006711,\n",
              "       0.01006711])"
            ]
          },
          "metadata": {},
          "execution_count": 11
        }
      ]
    },
    {
      "cell_type": "code",
      "source": [
        "# Obtain false positive rate, true positive rate (sensitivity/recall), and thresholds value of TN/TP\n",
        "# false positive rate: the ratio between the number of negative events wrongly categorized as positive and the total number of actual negative events\n",
        "# true positive rate: the ratio between the number of true cases correctly categorized as positive and the total number of actual positive cases\n",
        "fpr, tpr, thresholds = roc_curve(y_test, y_score_dtc, pos_label=1)"
      ],
      "metadata": {
        "id": "hrD4uUiGLmOv"
      },
      "execution_count": 23,
      "outputs": []
    },
    {
      "cell_type": "code",
      "source": [
        "#Compute area under the ROC from prediciton scores\n",
        "#y_test: true labels from the testing data\n",
        "#y_score_dtc: target scores (label = 1)\n",
        "roc_score = roc_auc_score(y_test, y_score_dtc)\n",
        "roc_score"
      ],
      "metadata": {
        "colab": {
          "base_uri": "https://localhost:8080/"
        },
        "id": "5SsgX-fkMWz3",
        "outputId": "38a45ef3-f054-4840-f3ae-0b20667ed4ca"
      },
      "execution_count": 14,
      "outputs": [
        {
          "output_type": "execute_result",
          "data": {
            "text/plain": [
              "0.7563575557820649"
            ]
          },
          "metadata": {},
          "execution_count": 14
        }
      ]
    },
    {
      "cell_type": "code",
      "source": [
        "#ROC curve visualization\n",
        "plt.plot(fpr,tpr,'o-',label=\"roc_auc_score:\"+str(roc_score.round(2)))\n",
        "plt.ylabel('True Positive Rate')\n",
        "plt.xlabel('False Positive Rate')\n",
        "plt.legend()\n",
        "plt.show()"
      ],
      "metadata": {
        "colab": {
          "base_uri": "https://localhost:8080/",
          "height": 449
        },
        "id": "wB4OnhsgMcNS",
        "outputId": "189a7b26-57d1-4727-b179-ca784844cdbc"
      },
      "execution_count": 15,
      "outputs": [
        {
          "output_type": "display_data",
          "data": {
            "text/plain": [
              "<Figure size 640x480 with 1 Axes>"
            ],
            "image/png": "[encoded data removed]"
          },
          "metadata": {}
        }
      ]
    },
    {
      "cell_type": "markdown",
      "source": [
        "**Discussion:**\n",
        "* The ROC curve and AUC value of 0.76 shows a fair model's performance in separating two labels.\n",
        "* The ideal decision threshold is approximately (0.30, 0.70)"
      ],
      "metadata": {
        "id": "E09paTWOotaC"
      }
    },
    {
      "cell_type": "markdown",
      "source": [
        "## **Random Forest Classifier**"
      ],
      "metadata": {
        "id": "ypzxlojPN2Hw"
      }
    },
    {
      "cell_type": "code",
      "source": [
        "#Create a random forest classifier object with random_state = 66, n_estimators = 20, criterion = gini, max_depth = 30, and max_features = 'sqrt'\n",
        "rfc = RandomForestClassifier(random_state=66, n_estimators = 20, criterion = 'gini', max_depth = 30, max_features = 'sqrt')\n",
        "\n",
        "#Fit the model with training data\n",
        "rfc.fit(X_train, y_train)\n",
        "\n",
        "#Evalute the accuracy of the model\n",
        "np.round(rfc.score(X_test, y_test),3)"
      ],
      "metadata": {
        "colab": {
          "base_uri": "https://localhost:8080/"
        },
        "id": "UoEn3jfrN7Wf",
        "outputId": "4ebb39f1-62d5-482f-b513-9e81bfa9a1ad"
      },
      "execution_count": 16,
      "outputs": [
        {
          "output_type": "execute_result",
          "data": {
            "text/plain": [
              "0.867"
            ]
          },
          "metadata": {},
          "execution_count": 16
        }
      ]
    },
    {
      "cell_type": "markdown",
      "source": [
        "**Confusion Matrix**"
      ],
      "metadata": {
        "id": "nmYUIkdoPuY3"
      }
    },
    {
      "cell_type": "code",
      "source": [
        "#Predict the outcome by using trained model on testing/unseen data\n",
        "y_pred_rfc = rfc.predict(X_test)\n",
        "\n",
        "# Obtain true negative, false positive, false negative, and true positive of the model\n",
        "tn, fp, fn, tp = confusion_matrix(y_test, y_pred_rfc ,labels=[0,1]).ravel()\n",
        "tn, fp, fn, tp"
      ],
      "metadata": {
        "colab": {
          "base_uri": "https://localhost:8080/"
        },
        "id": "-S_BF7D3PiKI",
        "outputId": "7ccf348f-c452-4c80-f047-b85675bdbc18"
      },
      "execution_count": 17,
      "outputs": [
        {
          "output_type": "execute_result",
          "data": {
            "text/plain": [
              "(1255, 19, 179, 32)"
            ]
          },
          "metadata": {},
          "execution_count": 17
        }
      ]
    },
    {
      "cell_type": "markdown",
      "source": [
        "**Classification Report**"
      ],
      "metadata": {
        "id": "zhBn0VXtPwUI"
      }
    },
    {
      "cell_type": "code",
      "source": [
        "#Obtain the precision, recall, and f1-score of the trained model\n",
        "print(classification_report(y_test, y_pred_rfc))"
      ],
      "metadata": {
        "colab": {
          "base_uri": "https://localhost:8080/"
        },
        "id": "81t3-3paPsAo",
        "outputId": "f639a303-f2f4-4fb6-d2b9-b725a3b1e155"
      },
      "execution_count": 18,
      "outputs": [
        {
          "output_type": "stream",
          "name": "stdout",
          "text": [
            "              precision    recall  f1-score   support\n",
            "\n",
            "           0       0.88      0.99      0.93      1274\n",
            "           1       0.63      0.15      0.24       211\n",
            "\n",
            "    accuracy                           0.87      1485\n",
            "   macro avg       0.75      0.57      0.59      1485\n",
            "weighted avg       0.84      0.87      0.83      1485\n",
            "\n"
          ]
        }
      ]
    },
    {
      "cell_type": "markdown",
      "source": [
        "**Positive class**\n",
        "* Precision : 0.63\n",
        "* Recall: 0.15\n",
        "* F1 score: 0.24\n",
        "\n",
        "**Negative class**\n",
        "* Precision: 0.88\n",
        "* Recall: 0.99\n",
        "* F1 score: 0.93\n",
        "\n",
        "**Discussion:**\n",
        "* Similar to the result of decision tree classifier, the random forest classifier does not perform well in identifying positive class in this dataset.\n"
      ],
      "metadata": {
        "id": "VUUFfOV_rQ1q"
      }
    },
    {
      "cell_type": "markdown",
      "source": [
        "**ROC Curve**"
      ],
      "metadata": {
        "id": "BJBNojS_RFg5"
      }
    },
    {
      "cell_type": "code",
      "source": [
        "# Get probability estimates of the positive class\n",
        "y_score_rfc = rfc.predict_proba(X_test)[:, 1]\n",
        "y_score_rfc"
      ],
      "metadata": {
        "colab": {
          "base_uri": "https://localhost:8080/"
        },
        "id": "BrFKOhx5RM7n",
        "outputId": "40c3def6-5bee-42b2-915b-462d7ed36ee5"
      },
      "execution_count": 25,
      "outputs": [
        {
          "output_type": "execute_result",
          "data": {
            "text/plain": [
              "array([0.  , 0.  , 0.  , ..., 0.15, 0.05, 0.1 ])"
            ]
          },
          "metadata": {},
          "execution_count": 25
        }
      ]
    },
    {
      "cell_type": "code",
      "source": [
        "# Obtain false positive rate, true positive rate (sensitivity/recall), and thresholds value of TN/TP\n",
        "fpr, tpr, thresholds = roc_curve(y_test, y_score_rfc, pos_label=1)"
      ],
      "metadata": {
        "id": "pWzQcfbNTOSh"
      },
      "execution_count": 26,
      "outputs": []
    },
    {
      "cell_type": "code",
      "source": [
        "#Compute the area under the curce\n",
        "roc_score = roc_auc_score(y_test, y_score_rfc)\n",
        "roc_score"
      ],
      "metadata": {
        "colab": {
          "base_uri": "https://localhost:8080/"
        },
        "id": "DfSZQa-wTXpI",
        "outputId": "99a4cf75-7b00-4100-ef56-666458d23d13"
      },
      "execution_count": 27,
      "outputs": [
        {
          "output_type": "execute_result",
          "data": {
            "text/plain": [
              "0.7937626016502117"
            ]
          },
          "metadata": {},
          "execution_count": 27
        }
      ]
    },
    {
      "cell_type": "code",
      "source": [
        "#ROC curve visualization\n",
        "plt.plot(fpr,tpr,'o-',label=\"roc_auc_score:\"+str(roc_score.round(2)))\n",
        "plt.ylabel('True Positive Rate')\n",
        "plt.xlabel('False Positive Rate')\n",
        "plt.legend()\n",
        "plt.show()"
      ],
      "metadata": {
        "colab": {
          "base_uri": "https://localhost:8080/",
          "height": 449
        },
        "id": "dJGe3wLKTdTH",
        "outputId": "2300d8a9-ad77-45ac-b6b2-723ae17cf71b"
      },
      "execution_count": 28,
      "outputs": [
        {
          "output_type": "display_data",
          "data": {
            "text/plain": [
              "<Figure size 640x480 with 1 Axes>"
            ],
            "image/png": "[encoded data removed]"
          },
          "metadata": {}
        }
      ]
    },
    {
      "cell_type": "markdown",
      "source": [
        "**Discussion**\n",
        "* The ideal decision threshold is approximately (0.25, 0.75), which is similar to that of the decision tree classifier."
      ],
      "metadata": {
        "id": "XBTkm_czsTHr"
      }
    },
    {
      "cell_type": "markdown",
      "source": [
        "## **Logistic Regression**"
      ],
      "metadata": {
        "id": "o4wg72Q-UKQw"
      }
    },
    {
      "cell_type": "code",
      "source": [
        "#Create a logistic regression object with random_state = 66, max_iter = 1000, solver = saga, and penalty = l1\n",
        "logr = LogisticRegression(random_state=66, max_iter=1000, solver='saga', C=1.0, penalty='l1')\n",
        "\n",
        "#Fit the model with training data\n",
        "logr.fit(X_train, y_train)\n",
        "\n",
        "#Evalute the accuracy of the model\n",
        "np.round(logr.score(X_test, y_test),3)"
      ],
      "metadata": {
        "colab": {
          "base_uri": "https://localhost:8080/"
        },
        "id": "Ai0qoz_UUOL3",
        "outputId": "0167f929-c225-4e97-92af-88c7f6507dca"
      },
      "execution_count": 29,
      "outputs": [
        {
          "output_type": "execute_result",
          "data": {
            "text/plain": [
              "0.867"
            ]
          },
          "metadata": {},
          "execution_count": 29
        }
      ]
    },
    {
      "cell_type": "markdown",
      "source": [
        "**Confusion Matrix**"
      ],
      "metadata": {
        "id": "LiAjf6BgW3bh"
      }
    },
    {
      "cell_type": "code",
      "source": [
        "#Predict the outcome by using trained model on testing/unseen data\n",
        "y_pred_logr = logr.predict(X_test)\n",
        "\n",
        "# Obtain true negative, false positive, false negative, and true positive of the model\n",
        "tn, fp, fn, tp = confusion_matrix(y_test, y_pred_logr ,labels=[0,1]).ravel()\n",
        "tn, fp, fn, tp"
      ],
      "metadata": {
        "colab": {
          "base_uri": "https://localhost:8080/"
        },
        "id": "yyV0a8KiW5kY",
        "outputId": "4b811cfb-29a8-47de-bb29-f44b88f22e0a"
      },
      "execution_count": 30,
      "outputs": [
        {
          "output_type": "execute_result",
          "data": {
            "text/plain": [
              "(1256, 18, 179, 32)"
            ]
          },
          "metadata": {},
          "execution_count": 30
        }
      ]
    },
    {
      "cell_type": "markdown",
      "source": [
        "**Classification Report**"
      ],
      "metadata": {
        "id": "qepKiXx1XFBp"
      }
    },
    {
      "cell_type": "code",
      "source": [
        "#Obtain the precision, recall, and f1-score of the trained model\n",
        "print(classification_report(y_test, y_pred_logr))"
      ],
      "metadata": {
        "colab": {
          "base_uri": "https://localhost:8080/"
        },
        "id": "zV3cxhjoXCMZ",
        "outputId": "96aaac69-f7c9-470d-dfd3-9cc63f71b825"
      },
      "execution_count": 31,
      "outputs": [
        {
          "output_type": "stream",
          "name": "stdout",
          "text": [
            "              precision    recall  f1-score   support\n",
            "\n",
            "           0       0.88      0.99      0.93      1274\n",
            "           1       0.64      0.15      0.25       211\n",
            "\n",
            "    accuracy                           0.87      1485\n",
            "   macro avg       0.76      0.57      0.59      1485\n",
            "weighted avg       0.84      0.87      0.83      1485\n",
            "\n"
          ]
        }
      ]
    },
    {
      "cell_type": "markdown",
      "source": [
        "**Positive class**\n",
        "* Precision : 0.64\n",
        "* Recall: 0.15\n",
        "* F1 score: 0.25\n",
        "\n",
        "**Negative class**\n",
        "* Precision: 0.88\n",
        "* Recall: 0.99\n",
        "* F1 score: 0.93\n",
        "\n",
        "**Discussion**\n",
        "* Similar to the results of the previous two models, the logistic regresison model does not perform well when predicting the positive class."
      ],
      "metadata": {
        "id": "UNGzoRJsvZjh"
      }
    },
    {
      "cell_type": "markdown",
      "source": [
        "**ROC Curve**"
      ],
      "metadata": {
        "id": "9O6bwO38XKDB"
      }
    },
    {
      "cell_type": "code",
      "source": [
        "# Get probability estimates of the positive class\n",
        "y_score_logr = logr.predict_proba(X_test)[:, 1]\n",
        "y_score_logr"
      ],
      "metadata": {
        "colab": {
          "base_uri": "https://localhost:8080/"
        },
        "id": "CQgga4QEXL-R",
        "outputId": "e0f4f77c-0686-4203-fac6-62b0ec4a4849"
      },
      "execution_count": 32,
      "outputs": [
        {
          "output_type": "execute_result",
          "data": {
            "text/plain": [
              "array([0.02193872, 0.01726641, 0.01882398, ..., 0.0797359 , 0.07554198,\n",
              "       0.06946285])"
            ]
          },
          "metadata": {},
          "execution_count": 32
        }
      ]
    },
    {
      "cell_type": "code",
      "source": [
        "# Obtain false positive rate, true positive rate (sensitivity/recell), and thresholds value of TN/TP\n",
        "fpr, tpr, thresholds = roc_curve(y_test, y_score_logr, pos_label=1)"
      ],
      "metadata": {
        "id": "X0V0VcGHXTkZ"
      },
      "execution_count": 33,
      "outputs": []
    },
    {
      "cell_type": "code",
      "source": [
        "#Area under the curce\n",
        "roc_score = roc_auc_score(y_test, y_score_logr)\n",
        "roc_score"
      ],
      "metadata": {
        "colab": {
          "base_uri": "https://localhost:8080/"
        },
        "id": "owWEtA8oXZRR",
        "outputId": "a6fef22b-c959-4b1d-e071-93faddf00247"
      },
      "execution_count": 34,
      "outputs": [
        {
          "output_type": "execute_result",
          "data": {
            "text/plain": [
              "0.8224199632459619"
            ]
          },
          "metadata": {},
          "execution_count": 34
        }
      ]
    },
    {
      "cell_type": "code",
      "source": [
        "#ROC curve visualization\n",
        "plt.plot(fpr,tpr,'o-',label=\"roc_auc_score:\"+str(roc_score.round(2)))\n",
        "plt.ylabel('True Positive Rate')\n",
        "plt.xlabel('False Positive Rate')\n",
        "plt.legend()\n",
        "plt.show()"
      ],
      "metadata": {
        "colab": {
          "base_uri": "https://localhost:8080/",
          "height": 449
        },
        "id": "jRyP08DuXfGp",
        "outputId": "4e8fe72b-c013-49d1-f7f4-8783c8723d7f"
      },
      "execution_count": 35,
      "outputs": [
        {
          "output_type": "display_data",
          "data": {
            "text/plain": [
              "<Figure size 640x480 with 1 Axes>"
            ],
            "image/png": "[encoded data removed]"
          },
          "metadata": {}
        }
      ]
    },
    {
      "cell_type": "markdown",
      "source": [
        "**Discussion**\n",
        "* The AUC score of the logistic regression model(0.82) is the highest among the three models, which indicates a better ability to distinguish between the positive and negative classes.\n",
        "* The ideal decision threshold is approximately (0.22, 0.78)"
      ],
      "metadata": {
        "id": "3CliCOFJwb5t"
      }
    },
    {
      "cell_type": "markdown",
      "source": [
        "# **Hyperparameter Tuning (GridSearchCV) & K-fold cross-validation**\n"
      ],
      "metadata": {
        "id": "5rTDk0gY8EBG"
      }
    },
    {
      "cell_type": "markdown",
      "source": [
        "## **Decision Tree Classifier**"
      ],
      "metadata": {
        "id": "liN9KmHaWWYC"
      }
    },
    {
      "cell_type": "code",
      "source": [
        "#Create a decision tree classifier with random_state = 66 and default setting\n",
        "dtc_tuned = tree.DecisionTreeClassifier(random_state=66)\n",
        "\n",
        "#Setting up a paramter grid for hyperparameter tuning\n",
        "parameters_dtc = {'max_depth':[2,3,5,7,10,15],\n",
        "          'min_samples_leaf':[2,3,5,10,15,20],\n",
        "          'min_samples_split':[2,8,10,12,18,20,16],\n",
        "          'criterion':['gini','entropy'],\n",
        "          'splitter': ['best', 'random']}\n",
        "\n",
        "#Create GridSearchCV object with decision tree classifier model\n",
        "grid_cv_dtc = GridSearchCV(estimator = dtc_tuned, param_grid = parameters_dtc, cv = 5)\n",
        "\n",
        "#Fit the model with the entire dataset instead of training data\n",
        "#cv = 5: 5-fold cross-validation\n",
        "grid_cv_dtc.fit(dia_X, dia_y)"
      ],
      "metadata": {
        "colab": {
          "base_uri": "https://localhost:8080/",
          "height": 117
        },
        "id": "XM-0y8lnWaoJ",
        "outputId": "3c220d02-0ad0-4c6a-a02f-c0fbc59260ec"
      },
      "execution_count": 39,
      "outputs": [
        {
          "output_type": "execute_result",
          "data": {
            "text/plain": [
              "GridSearchCV(cv=5, estimator=DecisionTreeClassifier(random_state=66),\n",
              "             param_grid={'criterion': ['gini', 'entropy'],\n",
              "                         'max_depth': [2, 3, 5, 7, 10, 15],\n",
              "                         'min_samples_leaf': [2, 3, 5, 10, 15, 20],\n",
              "                         'min_samples_split': [2, 8, 10, 12, 18, 20, 16],\n",
              "                         'splitter': ['best', 'random']})"
            ],
            "text/html": [
              "<style>#sk-container-id-4 {color: black;background-color: white;}#sk-container-id-4 pre{padding: 0;}#sk-container-id-4 div.sk-toggleable {background-color: white;}#sk-container-id-4 label.sk-toggleable__label {cursor: pointer;display: block;width: 100%;margin-bottom: 0;padding: 0.3em;box-sizing: border-box;text-align: center;}#sk-container-id-4 label.sk-toggleable__label-arrow:before {content: \"▸\";float: left;margin-right: 0.25em;color: #696969;}#sk-container-id-4 label.sk-toggleable__label-arrow:hover:before {color: black;}#sk-container-id-4 div.sk-estimator:hover label.sk-toggleable__label-arrow:before {color: black;}#sk-container-id-4 div.sk-toggleable__content {max-height: 0;max-width: 0;overflow: hidden;text-align: left;background-color: #f0f8ff;}#sk-container-id-4 div.sk-toggleable__content pre {margin: 0.2em;color: black;border-radius: 0.25em;background-color: #f0f8ff;}#sk-container-id-4 input.sk-toggleable__control:checked~div.sk-toggleable__content {max-height: 200px;max-width: 100%;overflow: auto;}#sk-container-id-4 input.sk-toggleable__control:checked~label.sk-toggleable__label-arrow:before {content: \"▾\";}#sk-container-id-4 div.sk-estimator input.sk-toggleable__control:checked~label.sk-toggleable__label {background-color: #d4ebff;}#sk-container-id-4 div.sk-label input.sk-toggleable__control:checked~label.sk-toggleable__label {background-color: #d4ebff;}#sk-container-id-4 input.sk-hidden--visually {border: 0;clip: rect(1px 1px 1px 1px);clip: rect(1px, 1px, 1px, 1px);height: 1px;margin: -1px;overflow: hidden;padding: 0;position: absolute;width: 1px;}#sk-container-id-4 div.sk-estimator {font-family: monospace;background-color: #f0f8ff;border: 1px dotted black;border-radius: 0.25em;box-sizing: border-box;margin-bottom: 0.5em;}#sk-container-id-4 div.sk-estimator:hover {background-color: #d4ebff;}#sk-container-id-4 div.sk-parallel-item::after {content: \"\";width: 100%;border-bottom: 1px solid gray;flex-grow: 1;}#sk-container-id-4 div.sk-label:hover label.sk-toggleable__label {background-color: #d4ebff;}#sk-container-id-4 div.sk-serial::before {content: \"\";position: absolute;border-left: 1px solid gray;box-sizing: border-box;top: 0;bottom: 0;left: 50%;z-index: 0;}#sk-container-id-4 div.sk-serial {display: flex;flex-direction: column;align-items: center;background-color: white;padding-right: 0.2em;padding-left: 0.2em;position: relative;}#sk-container-id-4 div.sk-item {position: relative;z-index: 1;}#sk-container-id-4 div.sk-parallel {display: flex;align-items: stretch;justify-content: center;background-color: white;position: relative;}#sk-container-id-4 div.sk-item::before, #sk-container-id-4 div.sk-parallel-item::before {content: \"\";position: absolute;border-left: 1px solid gray;box-sizing: border-box;top: 0;bottom: 0;left: 50%;z-index: -1;}#sk-container-id-4 div.sk-parallel-item {display: flex;flex-direction: column;z-index: 1;position: relative;background-color: white;}#sk-container-id-4 div.sk-parallel-item:first-child::after {align-self: flex-end;width: 50%;}#sk-container-id-4 div.sk-parallel-item:last-child::after {align-self: flex-start;width: 50%;}#sk-container-id-4 div.sk-parallel-item:only-child::after {width: 0;}#sk-container-id-4 div.sk-dashed-wrapped {border: 1px dashed gray;margin: 0 0.4em 0.5em 0.4em;box-sizing: border-box;padding-bottom: 0.4em;background-color: white;}#sk-container-id-4 div.sk-label label {font-family: monospace;font-weight: bold;display: inline-block;line-height: 1.2em;}#sk-container-id-4 div.sk-label-container {text-align: center;}#sk-container-id-4 div.sk-container {/* jupyter's `normalize.less` sets `[hidden] { display: none; }` but bootstrap.min.css set `[hidden] { display: none !important; }` so we also need the `!important` here to be able to override the default hidden behavior on the sphinx rendered scikit-learn.org. See: https://github.com/scikit-learn/scikit-learn/issues/21755 */display: inline-block !important;position: relative;}#sk-container-id-4 div.sk-text-repr-fallback {display: none;}</style><div id=\"sk-container-id-4\" class=\"sk-top-container\"><div class=\"sk-text-repr-fallback\"><pre>GridSearchCV(cv=5, estimator=DecisionTreeClassifier(random_state=66),\n",
              "             param_grid={&#x27;criterion&#x27;: [&#x27;gini&#x27;, &#x27;entropy&#x27;],\n",
              "                         &#x27;max_depth&#x27;: [2, 3, 5, 7, 10, 15],\n",
              "                         &#x27;min_samples_leaf&#x27;: [2, 3, 5, 10, 15, 20],\n",
              "                         &#x27;min_samples_split&#x27;: [2, 8, 10, 12, 18, 20, 16],\n",
              "                         &#x27;splitter&#x27;: [&#x27;best&#x27;, &#x27;random&#x27;]})</pre><b>In a Jupyter environment, please rerun this cell to show the HTML representation or trust the notebook. <br />On GitHub, the HTML representation is unable to render, please try loading this page with nbviewer.org.</b></div><div class=\"sk-container\" hidden><div class=\"sk-item sk-dashed-wrapped\"><div class=\"sk-label-container\"><div class=\"sk-label sk-toggleable\"><input class=\"sk-toggleable__control sk-hidden--visually\" id=\"sk-estimator-id-10\" type=\"checkbox\" ><label for=\"sk-estimator-id-10\" class=\"sk-toggleable__label sk-toggleable__label-arrow\">GridSearchCV</label><div class=\"sk-toggleable__content\"><pre>GridSearchCV(cv=5, estimator=DecisionTreeClassifier(random_state=66),\n",
              "             param_grid={&#x27;criterion&#x27;: [&#x27;gini&#x27;, &#x27;entropy&#x27;],\n",
              "                         &#x27;max_depth&#x27;: [2, 3, 5, 7, 10, 15],\n",
              "                         &#x27;min_samples_leaf&#x27;: [2, 3, 5, 10, 15, 20],\n",
              "                         &#x27;min_samples_split&#x27;: [2, 8, 10, 12, 18, 20, 16],\n",
              "                         &#x27;splitter&#x27;: [&#x27;best&#x27;, &#x27;random&#x27;]})</pre></div></div></div><div class=\"sk-parallel\"><div class=\"sk-parallel-item\"><div class=\"sk-item\"><div class=\"sk-label-container\"><div class=\"sk-label sk-toggleable\"><input class=\"sk-toggleable__control sk-hidden--visually\" id=\"sk-estimator-id-11\" type=\"checkbox\" ><label for=\"sk-estimator-id-11\" class=\"sk-toggleable__label sk-toggleable__label-arrow\">estimator: DecisionTreeClassifier</label><div class=\"sk-toggleable__content\"><pre>DecisionTreeClassifier(random_state=66)</pre></div></div></div><div class=\"sk-serial\"><div class=\"sk-item\"><div class=\"sk-estimator sk-toggleable\"><input class=\"sk-toggleable__control sk-hidden--visually\" id=\"sk-estimator-id-12\" type=\"checkbox\" ><label for=\"sk-estimator-id-12\" class=\"sk-toggleable__label sk-toggleable__label-arrow\">DecisionTreeClassifier</label><div class=\"sk-toggleable__content\"><pre>DecisionTreeClassifier(random_state=66)</pre></div></div></div></div></div></div></div></div></div></div>"
            ]
          },
          "metadata": {},
          "execution_count": 39
        }
      ]
    },
    {
      "cell_type": "code",
      "source": [
        "# The mean cross-validated score of the best_estimator\n",
        "grid_cv_dtc.best_score_"
      ],
      "metadata": {
        "colab": {
          "base_uri": "https://localhost:8080/"
        },
        "id": "Kzl5N3RAXns3",
        "outputId": "016aef22-4d2d-4ae8-c738-844a68ed99ef"
      },
      "execution_count": 41,
      "outputs": [
        {
          "output_type": "execute_result",
          "data": {
            "text/plain": [
              "0.8688615170920532"
            ]
          },
          "metadata": {},
          "execution_count": 41
        }
      ]
    },
    {
      "cell_type": "code",
      "source": [
        "#The combination of parameters that resulted in the best score\n",
        "grid_cv_dtc.best_params_"
      ],
      "metadata": {
        "colab": {
          "base_uri": "https://localhost:8080/"
        },
        "id": "-hE4S0uNXt9O",
        "outputId": "3e0d9238-f82e-452f-900a-409fbad30e75"
      },
      "execution_count": 42,
      "outputs": [
        {
          "output_type": "execute_result",
          "data": {
            "text/plain": [
              "{'criterion': 'entropy',\n",
              " 'max_depth': 5,\n",
              " 'min_samples_leaf': 20,\n",
              " 'min_samples_split': 2,\n",
              " 'splitter': 'best'}"
            ]
          },
          "metadata": {},
          "execution_count": 42
        }
      ]
    },
    {
      "cell_type": "code",
      "source": [
        "#Perform cross-validaiton with the best estimator from the grid search\n",
        "#5-fold\n",
        "kf_dtc = KFold(n_splits = 5)\n",
        "\n",
        "#Using the entire dataset to perform cross-validation\n",
        "cv_scores_dtc = cross_val_score(grid_cv_dtc, dia_X, dia_y, cv = kf_dtc)\n",
        "cv_scores_dtc"
      ],
      "metadata": {
        "colab": {
          "base_uri": "https://localhost:8080/"
        },
        "id": "S7RQ-CZIXv_3",
        "outputId": "59b6951d-5af6-4788-e799-6160fb795657"
      },
      "execution_count": 43,
      "outputs": [
        {
          "output_type": "execute_result",
          "data": {
            "text/plain": [
              "array([0.86161616, 0.86161616, 0.87777778, 0.86969697, 0.86450961])"
            ]
          },
          "metadata": {},
          "execution_count": 43
        }
      ]
    },
    {
      "cell_type": "code",
      "source": [
        "#The mean cross-validation score\n",
        "cv_scores_dtc.mean()"
      ],
      "metadata": {
        "colab": {
          "base_uri": "https://localhost:8080/"
        },
        "id": "FY9oDQjZ175E",
        "outputId": "ce5993fc-5602-4322-fdc2-ad645ab6c25a"
      },
      "execution_count": 44,
      "outputs": [
        {
          "output_type": "execute_result",
          "data": {
            "text/plain": [
              "0.8670433352738712"
            ]
          },
          "metadata": {},
          "execution_count": 44
        }
      ]
    },
    {
      "cell_type": "markdown",
      "source": [
        "## **Random Forest Classifier**"
      ],
      "metadata": {
        "id": "2HERvcHWYO9c"
      }
    },
    {
      "cell_type": "code",
      "source": [
        "#Create a random forest classifier with random_state = 66 and default setting\n",
        "rfc_tuned = RandomForestClassifier(random_state = 66)\n",
        "\n",
        "#Setting up a paramter grid for hyperparameter tuning\n",
        "parameters_rfc = {'n_estimators': [20, 50, 100, 150],\n",
        "                   'max_features': ['sqrt', 'log2', None],\n",
        "                   'max_depth': [3, 6, 9],\n",
        "                   'max_leaf_nodes': [3, 6, 9],\n",
        "                    }\n",
        "\n",
        "#Create GridSearchCV object with random forest classifier model\n",
        "grid_cv_rfc = GridSearchCV(estimator = rfc_tuned, param_grid = parameters_rfc, cv=5)\n",
        "\n",
        "#Fit the data with the entire dataset\n",
        "grid_cv_rfc.fit(dia_X, dia_y)"
      ],
      "metadata": {
        "colab": {
          "base_uri": "https://localhost:8080/",
          "height": 117
        },
        "id": "qR_C_CLXYTuI",
        "outputId": "c45bf9bd-d45a-4887-a67c-76c983744d9a"
      },
      "execution_count": 45,
      "outputs": [
        {
          "output_type": "execute_result",
          "data": {
            "text/plain": [
              "GridSearchCV(cv=5, estimator=RandomForestClassifier(random_state=66),\n",
              "             param_grid={'max_depth': [3, 6, 9],\n",
              "                         'max_features': ['sqrt', 'log2', None],\n",
              "                         'max_leaf_nodes': [3, 6, 9],\n",
              "                         'n_estimators': [20, 50, 100, 150]})"
            ],
            "text/html": [
              "<style>#sk-container-id-5 {color: black;background-color: white;}#sk-container-id-5 pre{padding: 0;}#sk-container-id-5 div.sk-toggleable {background-color: white;}#sk-container-id-5 label.sk-toggleable__label {cursor: pointer;display: block;width: 100%;margin-bottom: 0;padding: 0.3em;box-sizing: border-box;text-align: center;}#sk-container-id-5 label.sk-toggleable__label-arrow:before {content: \"▸\";float: left;margin-right: 0.25em;color: #696969;}#sk-container-id-5 label.sk-toggleable__label-arrow:hover:before {color: black;}#sk-container-id-5 div.sk-estimator:hover label.sk-toggleable__label-arrow:before {color: black;}#sk-container-id-5 div.sk-toggleable__content {max-height: 0;max-width: 0;overflow: hidden;text-align: left;background-color: #f0f8ff;}#sk-container-id-5 div.sk-toggleable__content pre {margin: 0.2em;color: black;border-radius: 0.25em;background-color: #f0f8ff;}#sk-container-id-5 input.sk-toggleable__control:checked~div.sk-toggleable__content {max-height: 200px;max-width: 100%;overflow: auto;}#sk-container-id-5 input.sk-toggleable__control:checked~label.sk-toggleable__label-arrow:before {content: \"▾\";}#sk-container-id-5 div.sk-estimator input.sk-toggleable__control:checked~label.sk-toggleable__label {background-color: #d4ebff;}#sk-container-id-5 div.sk-label input.sk-toggleable__control:checked~label.sk-toggleable__label {background-color: #d4ebff;}#sk-container-id-5 input.sk-hidden--visually {border: 0;clip: rect(1px 1px 1px 1px);clip: rect(1px, 1px, 1px, 1px);height: 1px;margin: -1px;overflow: hidden;padding: 0;position: absolute;width: 1px;}#sk-container-id-5 div.sk-estimator {font-family: monospace;background-color: #f0f8ff;border: 1px dotted black;border-radius: 0.25em;box-sizing: border-box;margin-bottom: 0.5em;}#sk-container-id-5 div.sk-estimator:hover {background-color: #d4ebff;}#sk-container-id-5 div.sk-parallel-item::after {content: \"\";width: 100%;border-bottom: 1px solid gray;flex-grow: 1;}#sk-container-id-5 div.sk-label:hover label.sk-toggleable__label {background-color: #d4ebff;}#sk-container-id-5 div.sk-serial::before {content: \"\";position: absolute;border-left: 1px solid gray;box-sizing: border-box;top: 0;bottom: 0;left: 50%;z-index: 0;}#sk-container-id-5 div.sk-serial {display: flex;flex-direction: column;align-items: center;background-color: white;padding-right: 0.2em;padding-left: 0.2em;position: relative;}#sk-container-id-5 div.sk-item {position: relative;z-index: 1;}#sk-container-id-5 div.sk-parallel {display: flex;align-items: stretch;justify-content: center;background-color: white;position: relative;}#sk-container-id-5 div.sk-item::before, #sk-container-id-5 div.sk-parallel-item::before {content: \"\";position: absolute;border-left: 1px solid gray;box-sizing: border-box;top: 0;bottom: 0;left: 50%;z-index: -1;}#sk-container-id-5 div.sk-parallel-item {display: flex;flex-direction: column;z-index: 1;position: relative;background-color: white;}#sk-container-id-5 div.sk-parallel-item:first-child::after {align-self: flex-end;width: 50%;}#sk-container-id-5 div.sk-parallel-item:last-child::after {align-self: flex-start;width: 50%;}#sk-container-id-5 div.sk-parallel-item:only-child::after {width: 0;}#sk-container-id-5 div.sk-dashed-wrapped {border: 1px dashed gray;margin: 0 0.4em 0.5em 0.4em;box-sizing: border-box;padding-bottom: 0.4em;background-color: white;}#sk-container-id-5 div.sk-label label {font-family: monospace;font-weight: bold;display: inline-block;line-height: 1.2em;}#sk-container-id-5 div.sk-label-container {text-align: center;}#sk-container-id-5 div.sk-container {/* jupyter's `normalize.less` sets `[hidden] { display: none; }` but bootstrap.min.css set `[hidden] { display: none !important; }` so we also need the `!important` here to be able to override the default hidden behavior on the sphinx rendered scikit-learn.org. See: https://github.com/scikit-learn/scikit-learn/issues/21755 */display: inline-block !important;position: relative;}#sk-container-id-5 div.sk-text-repr-fallback {display: none;}</style><div id=\"sk-container-id-5\" class=\"sk-top-container\"><div class=\"sk-text-repr-fallback\"><pre>GridSearchCV(cv=5, estimator=RandomForestClassifier(random_state=66),\n",
              "             param_grid={&#x27;max_depth&#x27;: [3, 6, 9],\n",
              "                         &#x27;max_features&#x27;: [&#x27;sqrt&#x27;, &#x27;log2&#x27;, None],\n",
              "                         &#x27;max_leaf_nodes&#x27;: [3, 6, 9],\n",
              "                         &#x27;n_estimators&#x27;: [20, 50, 100, 150]})</pre><b>In a Jupyter environment, please rerun this cell to show the HTML representation or trust the notebook. <br />On GitHub, the HTML representation is unable to render, please try loading this page with nbviewer.org.</b></div><div class=\"sk-container\" hidden><div class=\"sk-item sk-dashed-wrapped\"><div class=\"sk-label-container\"><div class=\"sk-label sk-toggleable\"><input class=\"sk-toggleable__control sk-hidden--visually\" id=\"sk-estimator-id-13\" type=\"checkbox\" ><label for=\"sk-estimator-id-13\" class=\"sk-toggleable__label sk-toggleable__label-arrow\">GridSearchCV</label><div class=\"sk-toggleable__content\"><pre>GridSearchCV(cv=5, estimator=RandomForestClassifier(random_state=66),\n",
              "             param_grid={&#x27;max_depth&#x27;: [3, 6, 9],\n",
              "                         &#x27;max_features&#x27;: [&#x27;sqrt&#x27;, &#x27;log2&#x27;, None],\n",
              "                         &#x27;max_leaf_nodes&#x27;: [3, 6, 9],\n",
              "                         &#x27;n_estimators&#x27;: [20, 50, 100, 150]})</pre></div></div></div><div class=\"sk-parallel\"><div class=\"sk-parallel-item\"><div class=\"sk-item\"><div class=\"sk-label-container\"><div class=\"sk-label sk-toggleable\"><input class=\"sk-toggleable__control sk-hidden--visually\" id=\"sk-estimator-id-14\" type=\"checkbox\" ><label for=\"sk-estimator-id-14\" class=\"sk-toggleable__label sk-toggleable__label-arrow\">estimator: RandomForestClassifier</label><div class=\"sk-toggleable__content\"><pre>RandomForestClassifier(random_state=66)</pre></div></div></div><div class=\"sk-serial\"><div class=\"sk-item\"><div class=\"sk-estimator sk-toggleable\"><input class=\"sk-toggleable__control sk-hidden--visually\" id=\"sk-estimator-id-15\" type=\"checkbox\" ><label for=\"sk-estimator-id-15\" class=\"sk-toggleable__label sk-toggleable__label-arrow\">RandomForestClassifier</label><div class=\"sk-toggleable__content\"><pre>RandomForestClassifier(random_state=66)</pre></div></div></div></div></div></div></div></div></div></div>"
            ]
          },
          "metadata": {},
          "execution_count": 45
        }
      ]
    },
    {
      "cell_type": "code",
      "source": [
        "#The mean cross-validated score of the best_estimator\n",
        "grid_cv_rfc.best_score_"
      ],
      "metadata": {
        "colab": {
          "base_uri": "https://localhost:8080/"
        },
        "id": "JUACT-QqZIIL",
        "outputId": "a6bc8e53-d0ec-4e4b-ea24-4ef615fd027c"
      },
      "execution_count": 46,
      "outputs": [
        {
          "output_type": "execute_result",
          "data": {
            "text/plain": [
              "0.8692671916332179"
            ]
          },
          "metadata": {},
          "execution_count": 46
        }
      ]
    },
    {
      "cell_type": "code",
      "source": [
        "#The combination of parameters that resulted in the best score\n",
        "grid_cv_rfc.best_params_"
      ],
      "metadata": {
        "colab": {
          "base_uri": "https://localhost:8080/"
        },
        "id": "OQTOptKRZMdc",
        "outputId": "36fa07c3-3b7f-47f9-a508-344ef382d2be"
      },
      "execution_count": 47,
      "outputs": [
        {
          "output_type": "execute_result",
          "data": {
            "text/plain": [
              "{'max_depth': 6,\n",
              " 'max_features': None,\n",
              " 'max_leaf_nodes': 9,\n",
              " 'n_estimators': 100}"
            ]
          },
          "metadata": {},
          "execution_count": 47
        }
      ]
    },
    {
      "cell_type": "code",
      "source": [
        "#Perform cross-validation with 5-fold\n",
        "kf_rfc = KFold(n_splits = 5)\n",
        "\n",
        "cv_scores_rfc = cross_val_score(grid_cv_rfc, dia_X, dia_y, cv = kf_rfc)\n",
        "cv_scores_rfc"
      ],
      "metadata": {
        "colab": {
          "base_uri": "https://localhost:8080/"
        },
        "id": "vaRerla-ZPyv",
        "outputId": "ee39edda-6736-4bd4-d043-9ba0bf70c226"
      },
      "execution_count": 48,
      "outputs": [
        {
          "output_type": "execute_result",
          "data": {
            "text/plain": [
              "array([0.86868687, 0.85959596, 0.87676768, 0.86767677, 0.86248736])"
            ]
          },
          "metadata": {},
          "execution_count": 48
        }
      ]
    },
    {
      "cell_type": "code",
      "source": [
        "#The mean cross-validation score\n",
        "cv_scores_rfc.mean()"
      ],
      "metadata": {
        "colab": {
          "base_uri": "https://localhost:8080/"
        },
        "id": "5w31NMYr4ZJM",
        "outputId": "afcf42b5-e3b9-4309-cf79-7a29fe0edeef"
      },
      "execution_count": 49,
      "outputs": [
        {
          "output_type": "execute_result",
          "data": {
            "text/plain": [
              "0.8670429267395899"
            ]
          },
          "metadata": {},
          "execution_count": 49
        }
      ]
    },
    {
      "cell_type": "markdown",
      "source": [
        "## **Logistic Regression**"
      ],
      "metadata": {
        "id": "7iKQqcVmB3EH"
      }
    },
    {
      "cell_type": "code",
      "source": [
        "#Create a logistic regression object with random_state = 66 and max_iter=1000\n",
        "lr_tuned = LogisticRegression(random_state=66, max_iter=1000)\n",
        "\n",
        "#Set up parameter dictionary for grid search\n",
        "parameters = {'penalty':('l1', 'l2'),\n",
        "              'C':[0.1, 1, 10],\n",
        "              'solver': ['liblinear','saga']}\n",
        "\n",
        "#Create GridSearchCV object with logistic regression model\n",
        "grid_cv_lr = GridSearchCV(estimator = lr_tuned, param_grid = parameters, cv=5)\n",
        "\n",
        "#Fit the model with the entire dataset\n",
        "grid_cv_lr.fit(dia_X, dia_y)"
      ],
      "metadata": {
        "colab": {
          "base_uri": "https://localhost:8080/",
          "height": 117
        },
        "id": "E9yttBKj9Q7d",
        "outputId": "d183b1fe-2489-4cdd-a0c8-9a2a3e91ead4"
      },
      "execution_count": 53,
      "outputs": [
        {
          "output_type": "execute_result",
          "data": {
            "text/plain": [
              "GridSearchCV(cv=5, estimator=LogisticRegression(max_iter=1000, random_state=66),\n",
              "             param_grid={'C': [0.1, 1, 10], 'penalty': ('l1', 'l2'),\n",
              "                         'solver': ['liblinear', 'saga']})"
            ],
            "text/html": [
              "<style>#sk-container-id-8 {color: black;background-color: white;}#sk-container-id-8 pre{padding: 0;}#sk-container-id-8 div.sk-toggleable {background-color: white;}#sk-container-id-8 label.sk-toggleable__label {cursor: pointer;display: block;width: 100%;margin-bottom: 0;padding: 0.3em;box-sizing: border-box;text-align: center;}#sk-container-id-8 label.sk-toggleable__label-arrow:before {content: \"▸\";float: left;margin-right: 0.25em;color: #696969;}#sk-container-id-8 label.sk-toggleable__label-arrow:hover:before {color: black;}#sk-container-id-8 div.sk-estimator:hover label.sk-toggleable__label-arrow:before {color: black;}#sk-container-id-8 div.sk-toggleable__content {max-height: 0;max-width: 0;overflow: hidden;text-align: left;background-color: #f0f8ff;}#sk-container-id-8 div.sk-toggleable__content pre {margin: 0.2em;color: black;border-radius: 0.25em;background-color: #f0f8ff;}#sk-container-id-8 input.sk-toggleable__control:checked~div.sk-toggleable__content {max-height: 200px;max-width: 100%;overflow: auto;}#sk-container-id-8 input.sk-toggleable__control:checked~label.sk-toggleable__label-arrow:before {content: \"▾\";}#sk-container-id-8 div.sk-estimator input.sk-toggleable__control:checked~label.sk-toggleable__label {background-color: #d4ebff;}#sk-container-id-8 div.sk-label input.sk-toggleable__control:checked~label.sk-toggleable__label {background-color: #d4ebff;}#sk-container-id-8 input.sk-hidden--visually {border: 0;clip: rect(1px 1px 1px 1px);clip: rect(1px, 1px, 1px, 1px);height: 1px;margin: -1px;overflow: hidden;padding: 0;position: absolute;width: 1px;}#sk-container-id-8 div.sk-estimator {font-family: monospace;background-color: #f0f8ff;border: 1px dotted black;border-radius: 0.25em;box-sizing: border-box;margin-bottom: 0.5em;}#sk-container-id-8 div.sk-estimator:hover {background-color: #d4ebff;}#sk-container-id-8 div.sk-parallel-item::after {content: \"\";width: 100%;border-bottom: 1px solid gray;flex-grow: 1;}#sk-container-id-8 div.sk-label:hover label.sk-toggleable__label {background-color: #d4ebff;}#sk-container-id-8 div.sk-serial::before {content: \"\";position: absolute;border-left: 1px solid gray;box-sizing: border-box;top: 0;bottom: 0;left: 50%;z-index: 0;}#sk-container-id-8 div.sk-serial {display: flex;flex-direction: column;align-items: center;background-color: white;padding-right: 0.2em;padding-left: 0.2em;position: relative;}#sk-container-id-8 div.sk-item {position: relative;z-index: 1;}#sk-container-id-8 div.sk-parallel {display: flex;align-items: stretch;justify-content: center;background-color: white;position: relative;}#sk-container-id-8 div.sk-item::before, #sk-container-id-8 div.sk-parallel-item::before {content: \"\";position: absolute;border-left: 1px solid gray;box-sizing: border-box;top: 0;bottom: 0;left: 50%;z-index: -1;}#sk-container-id-8 div.sk-parallel-item {display: flex;flex-direction: column;z-index: 1;position: relative;background-color: white;}#sk-container-id-8 div.sk-parallel-item:first-child::after {align-self: flex-end;width: 50%;}#sk-container-id-8 div.sk-parallel-item:last-child::after {align-self: flex-start;width: 50%;}#sk-container-id-8 div.sk-parallel-item:only-child::after {width: 0;}#sk-container-id-8 div.sk-dashed-wrapped {border: 1px dashed gray;margin: 0 0.4em 0.5em 0.4em;box-sizing: border-box;padding-bottom: 0.4em;background-color: white;}#sk-container-id-8 div.sk-label label {font-family: monospace;font-weight: bold;display: inline-block;line-height: 1.2em;}#sk-container-id-8 div.sk-label-container {text-align: center;}#sk-container-id-8 div.sk-container {/* jupyter's `normalize.less` sets `[hidden] { display: none; }` but bootstrap.min.css set `[hidden] { display: none !important; }` so we also need the `!important` here to be able to override the default hidden behavior on the sphinx rendered scikit-learn.org. See: https://github.com/scikit-learn/scikit-learn/issues/21755 */display: inline-block !important;position: relative;}#sk-container-id-8 div.sk-text-repr-fallback {display: none;}</style><div id=\"sk-container-id-8\" class=\"sk-top-container\"><div class=\"sk-text-repr-fallback\"><pre>GridSearchCV(cv=5, estimator=LogisticRegression(max_iter=1000, random_state=66),\n",
              "             param_grid={&#x27;C&#x27;: [0.1, 1, 10], &#x27;penalty&#x27;: (&#x27;l1&#x27;, &#x27;l2&#x27;),\n",
              "                         &#x27;solver&#x27;: [&#x27;liblinear&#x27;, &#x27;saga&#x27;]})</pre><b>In a Jupyter environment, please rerun this cell to show the HTML representation or trust the notebook. <br />On GitHub, the HTML representation is unable to render, please try loading this page with nbviewer.org.</b></div><div class=\"sk-container\" hidden><div class=\"sk-item sk-dashed-wrapped\"><div class=\"sk-label-container\"><div class=\"sk-label sk-toggleable\"><input class=\"sk-toggleable__control sk-hidden--visually\" id=\"sk-estimator-id-22\" type=\"checkbox\" ><label for=\"sk-estimator-id-22\" class=\"sk-toggleable__label sk-toggleable__label-arrow\">GridSearchCV</label><div class=\"sk-toggleable__content\"><pre>GridSearchCV(cv=5, estimator=LogisticRegression(max_iter=1000, random_state=66),\n",
              "             param_grid={&#x27;C&#x27;: [0.1, 1, 10], &#x27;penalty&#x27;: (&#x27;l1&#x27;, &#x27;l2&#x27;),\n",
              "                         &#x27;solver&#x27;: [&#x27;liblinear&#x27;, &#x27;saga&#x27;]})</pre></div></div></div><div class=\"sk-parallel\"><div class=\"sk-parallel-item\"><div class=\"sk-item\"><div class=\"sk-label-container\"><div class=\"sk-label sk-toggleable\"><input class=\"sk-toggleable__control sk-hidden--visually\" id=\"sk-estimator-id-23\" type=\"checkbox\" ><label for=\"sk-estimator-id-23\" class=\"sk-toggleable__label sk-toggleable__label-arrow\">estimator: LogisticRegression</label><div class=\"sk-toggleable__content\"><pre>LogisticRegression(max_iter=1000, random_state=66)</pre></div></div></div><div class=\"sk-serial\"><div class=\"sk-item\"><div class=\"sk-estimator sk-toggleable\"><input class=\"sk-toggleable__control sk-hidden--visually\" id=\"sk-estimator-id-24\" type=\"checkbox\" ><label for=\"sk-estimator-id-24\" class=\"sk-toggleable__label sk-toggleable__label-arrow\">LogisticRegression</label><div class=\"sk-toggleable__content\"><pre>LogisticRegression(max_iter=1000, random_state=66)</pre></div></div></div></div></div></div></div></div></div></div>"
            ]
          },
          "metadata": {},
          "execution_count": 53
        }
      ]
    },
    {
      "cell_type": "code",
      "source": [
        "#The mean cross-validated score of the best_estimator\n",
        "grid_cv_lr.best_score_"
      ],
      "metadata": {
        "colab": {
          "base_uri": "https://localhost:8080/"
        },
        "id": "T3KoG_poC_ET",
        "outputId": "b01e7477-75e6-40e1-d74a-b3e6ee084020"
      },
      "execution_count": 54,
      "outputs": [
        {
          "output_type": "execute_result",
          "data": {
            "text/plain": [
              "0.8706815373145"
            ]
          },
          "metadata": {},
          "execution_count": 54
        }
      ]
    },
    {
      "cell_type": "code",
      "source": [
        "#The combination of parameters that resulted in the best score\n",
        "grid_cv_lr.best_params_"
      ],
      "metadata": {
        "colab": {
          "base_uri": "https://localhost:8080/"
        },
        "id": "KRoUMkuaD2D6",
        "outputId": "9691bd91-3f4e-4a08-f294-9b972a56aee4"
      },
      "execution_count": 55,
      "outputs": [
        {
          "output_type": "execute_result",
          "data": {
            "text/plain": [
              "{'C': 1, 'penalty': 'l1', 'solver': 'saga'}"
            ]
          },
          "metadata": {},
          "execution_count": 55
        }
      ]
    },
    {
      "cell_type": "code",
      "source": [
        "#Perform cross-validatio with 5-fold\n",
        "kf_lr = KFold(n_splits = 5)\n",
        "\n",
        "cv_scores_lr = cross_val_score(grid_cv_lr, dia_X, dia_y, cv = kf_lr)\n",
        "cv_scores_lr"
      ],
      "metadata": {
        "colab": {
          "base_uri": "https://localhost:8080/"
        },
        "id": "C1sB3uQmJxLp",
        "outputId": "fce3f33b-df1c-4e93-cf00-edfa34ff4123"
      },
      "execution_count": 56,
      "outputs": [
        {
          "output_type": "execute_result",
          "data": {
            "text/plain": [
              "array([0.86868687, 0.86464646, 0.87979798, 0.86262626, 0.86653185])"
            ]
          },
          "metadata": {},
          "execution_count": 56
        }
      ]
    },
    {
      "cell_type": "code",
      "source": [
        "#The mean cross-validation score\n",
        "cv_scores_lr.mean()"
      ],
      "metadata": {
        "colab": {
          "base_uri": "https://localhost:8080/"
        },
        "id": "gqbLjLlnc6Pc",
        "outputId": "d23aeff0-2131-430f-da18-172e69f00325"
      },
      "execution_count": 57,
      "outputs": [
        {
          "output_type": "execute_result",
          "data": {
            "text/plain": [
              "0.8684578852222937"
            ]
          },
          "metadata": {},
          "execution_count": 57
        }
      ]
    },
    {
      "cell_type": "markdown",
      "source": [
        "**Discussion:**\n",
        "* Overall, the accuracy of models increased after hyperparameters tunning.\n",
        "* The models' performance on each fold is validated.\n",
        "* Logistic regression model has the best performance among the three models."
      ],
      "metadata": {
        "id": "jKuqlLi19KVP"
      }
    },
    {
      "cell_type": "markdown",
      "source": [
        "# **Ensemble Learning Method**\n",
        "* Bagging, Boosting, and Stacking\n",
        "* I will explore boosting here to improve my logistic regression model's performance."
      ],
      "metadata": {
        "id": "KyPhY_KE9ZNc"
      }
    },
    {
      "cell_type": "code",
      "source": [
        "from sklearn.ensemble import AdaBoostClassifier"
      ],
      "metadata": {
        "id": "ztw_qi8v9fEk"
      },
      "execution_count": 60,
      "outputs": []
    },
    {
      "cell_type": "markdown",
      "source": [
        "**Model performance without boosting**"
      ],
      "metadata": {
        "id": "0I1lxOu0cLfB"
      }
    },
    {
      "cell_type": "code",
      "source": [
        "dt_before = tree.DecisionTreeClassifier(max_depth=1, random_state=0)\n",
        "dt_before_scores = cross_val_score(dt_before, dia_X, dia_y, cv=5)\n",
        "dt_before_scores.mean()"
      ],
      "metadata": {
        "colab": {
          "base_uri": "https://localhost:8080/"
        },
        "id": "KaF68bkhdNjk",
        "outputId": "6f18d3f7-a1b5-40e1-e587-6aad3262ad0c"
      },
      "execution_count": 61,
      "outputs": [
        {
          "output_type": "execute_result",
          "data": {
            "text/plain": [
              "0.8674479884793334"
            ]
          },
          "metadata": {},
          "execution_count": 61
        }
      ]
    },
    {
      "cell_type": "markdown",
      "source": [
        "**Model performance with boosting**"
      ],
      "metadata": {
        "id": "2ycDh-4NcOaF"
      }
    },
    {
      "cell_type": "code",
      "source": [
        "# create a boosting classifier\n",
        "# estimator=None: decision tree classifier with max_depth = 1\n",
        "dt_after = AdaBoostClassifier(estimator=None, n_estimators=100, algorithm=\"SAMME\")\n",
        "\n",
        "scores = cross_val_score(dt_after, dia_X, dia_y, cv=5)\n",
        "scores.mean()"
      ],
      "metadata": {
        "colab": {
          "base_uri": "https://localhost:8080/"
        },
        "id": "3fyLwqLYcGVY",
        "outputId": "39cc87a2-cf4c-4cc6-a403-83a94987b76f"
      },
      "execution_count": 62,
      "outputs": [
        {
          "output_type": "execute_result",
          "data": {
            "text/plain": [
              "0.8696691893658526"
            ]
          },
          "metadata": {},
          "execution_count": 62
        }
      ]
    },
    {
      "cell_type": "markdown",
      "source": [
        "**Discussion**\n",
        "* The mean score from the cross-validation with 5 folds increased from 0.867 to 0.870."
      ],
      "metadata": {
        "id": "YGf8S7jy-XUb"
      }
    }
  ]
}